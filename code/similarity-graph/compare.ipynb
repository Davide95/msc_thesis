{
 "cells": [
  {
   "cell_type": "code",
   "execution_count": 79,
   "metadata": {},
   "outputs": [],
   "source": [
    "import pandas as pd\n",
    "import numpy as np\n",
    "import networkx as nx"
   ]
  },
  {
   "cell_type": "code",
   "execution_count": 80,
   "metadata": {},
   "outputs": [],
   "source": [
    "FILENAME_STRUCTURE = 'scraper/watt-03032020.csv'"
   ]
  },
  {
   "cell_type": "markdown",
   "metadata": {},
   "source": [
    "## Load data"
   ]
  },
  {
   "cell_type": "code",
   "execution_count": 81,
   "metadata": {},
   "outputs": [
    {
     "data": {
      "text/html": [
       "<div>\n",
       "<style scoped>\n",
       "    .dataframe tbody tr th:only-of-type {\n",
       "        vertical-align: middle;\n",
       "    }\n",
       "\n",
       "    .dataframe tbody tr th {\n",
       "        vertical-align: top;\n",
       "    }\n",
       "\n",
       "    .dataframe thead th {\n",
       "        text-align: right;\n",
       "    }\n",
       "</style>\n",
       "<table border=\"1\" class=\"dataframe\">\n",
       "  <thead>\n",
       "    <tr style=\"text-align: right;\">\n",
       "      <th></th>\n",
       "      <th>url</th>\n",
       "      <th>connected_to</th>\n",
       "    </tr>\n",
       "  </thead>\n",
       "  <tbody>\n",
       "    <tr>\n",
       "      <th>0</th>\n",
       "      <td>https://www.wattpadwriters.com/</td>\n",
       "      <td>https://www.wattpadwriters.com/,https://www.wa...</td>\n",
       "    </tr>\n",
       "    <tr>\n",
       "      <th>1</th>\n",
       "      <td>https://www.wattpadwriters.com/c/story-services</td>\n",
       "      <td>https://www.wattpadwriters.com/,https://www.wa...</td>\n",
       "    </tr>\n",
       "    <tr>\n",
       "      <th>2</th>\n",
       "      <td>https://www.wattpadwriters.com/guidelines</td>\n",
       "      <td>https://www.wattpadwriters.com/,https://www.wa...</td>\n",
       "    </tr>\n",
       "    <tr>\n",
       "      <th>3</th>\n",
       "      <td>https://www.wattpadwriters.com/c/character-and...</td>\n",
       "      <td>https://www.wattpadwriters.com/,https://www.wa...</td>\n",
       "    </tr>\n",
       "    <tr>\n",
       "      <th>4</th>\n",
       "      <td>https://www.wattpadwriters.com/c/genre-clubs</td>\n",
       "      <td>https://www.wattpadwriters.com/,https://www.wa...</td>\n",
       "    </tr>\n",
       "  </tbody>\n",
       "</table>\n",
       "</div>"
      ],
      "text/plain": [
       "                                                 url  \\\n",
       "0                    https://www.wattpadwriters.com/   \n",
       "1    https://www.wattpadwriters.com/c/story-services   \n",
       "2          https://www.wattpadwriters.com/guidelines   \n",
       "3  https://www.wattpadwriters.com/c/character-and...   \n",
       "4       https://www.wattpadwriters.com/c/genre-clubs   \n",
       "\n",
       "                                        connected_to  \n",
       "0  https://www.wattpadwriters.com/,https://www.wa...  \n",
       "1  https://www.wattpadwriters.com/,https://www.wa...  \n",
       "2  https://www.wattpadwriters.com/,https://www.wa...  \n",
       "3  https://www.wattpadwriters.com/,https://www.wa...  \n",
       "4  https://www.wattpadwriters.com/,https://www.wa...  "
      ]
     },
     "execution_count": 81,
     "metadata": {},
     "output_type": "execute_result"
    }
   ],
   "source": [
    "structure = pd.read_csv(FILENAME_STRUCTURE, usecols=['url', 'connected_to'])\n",
    "structure.head()"
   ]
  },
  {
   "cell_type": "markdown",
   "metadata": {},
   "source": [
    "## Create the graph of the structure"
   ]
  },
  {
   "cell_type": "code",
   "execution_count": null,
   "metadata": {},
   "outputs": [],
   "source": [
    "structure_graph = nx.DiGraph()\n",
    "structure_graph.add_nodes_from(structure['url'].values)"
   ]
  },
  {
   "cell_type": "markdown",
   "metadata": {},
   "source": [
    "### Remove connections which are not pages themselves"
   ]
  },
  {
   "cell_type": "code",
   "execution_count": null,
   "metadata": {},
   "outputs": [],
   "source": [
    "for row in structure['connected_to'].dropna():\n",
    "    for url in row.split(','):\n",
    "        if url in structure_graph:\n",
    "            structure_graph.add_edge(row, url)"
   ]
  }
 ],
 "metadata": {
  "kernelspec": {
   "display_name": "Python 3",
   "language": "python",
   "name": "python3"
  },
  "language_info": {
   "codemirror_mode": {
    "name": "ipython",
    "version": 3
   },
   "file_extension": ".py",
   "mimetype": "text/x-python",
   "name": "python",
   "nbconvert_exporter": "python",
   "pygments_lexer": "ipython3",
   "version": "3.7.6"
  }
 },
 "nbformat": 4,
 "nbformat_minor": 4
}
