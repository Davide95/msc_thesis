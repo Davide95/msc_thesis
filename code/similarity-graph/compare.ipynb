{
 "cells": [
  {
   "cell_type": "code",
   "execution_count": 3,
   "metadata": {},
   "outputs": [],
   "source": [
    "import pandas as pd\n",
    "import numpy as np\n",
    "import networkx as nx"
   ]
  },
  {
   "cell_type": "code",
   "execution_count": 69,
   "metadata": {},
   "outputs": [],
   "source": [
    "FILENAME_STRUCTURE = 'scraper-data/postgraduateforum-2104.csv'\n",
    "FILENAME_SIM = 'watt-03032020-adj.npy'"
   ]
  },
  {
   "cell_type": "code",
   "execution_count": 80,
   "metadata": {},
   "outputs": [],
   "source": [
    "def remove_protocol(url):\n",
    "    assert url.startswith('http'), f'Formatting error: URL \"{url}\" not valid.'\n",
    "    \n",
    "    if url.startswith('http://'):\n",
    "        return url[7:]\n",
    "    else:\n",
    "        return url[8:]"
   ]
  },
  {
   "cell_type": "markdown",
   "metadata": {},
   "source": [
    "## Load data"
   ]
  },
  {
   "cell_type": "code",
   "execution_count": 81,
   "metadata": {},
   "outputs": [
    {
     "data": {
      "text/html": [
       "<div>\n",
       "<style scoped>\n",
       "    .dataframe tbody tr th:only-of-type {\n",
       "        vertical-align: middle;\n",
       "    }\n",
       "\n",
       "    .dataframe tbody tr th {\n",
       "        vertical-align: top;\n",
       "    }\n",
       "\n",
       "    .dataframe thead th {\n",
       "        text-align: right;\n",
       "    }\n",
       "</style>\n",
       "<table border=\"1\" class=\"dataframe\">\n",
       "  <thead>\n",
       "    <tr style=\"text-align: right;\">\n",
       "      <th></th>\n",
       "      <th>url</th>\n",
       "      <th>connected_to</th>\n",
       "    </tr>\n",
       "  </thead>\n",
       "  <tbody>\n",
       "    <tr>\n",
       "      <th>0</th>\n",
       "      <td>www.postgraduateforum.com/</td>\n",
       "      <td>https://www.postgraduateforum.com/,https://www...</td>\n",
       "    </tr>\n",
       "    <tr>\n",
       "      <th>1</th>\n",
       "      <td>www.postgraduateforum.com/tricky-profile</td>\n",
       "      <td>https://www.postgraduateforum.com/,https://www...</td>\n",
       "    </tr>\n",
       "    <tr>\n",
       "      <th>2</th>\n",
       "      <td>www.postgraduateforum.com/lara-profile</td>\n",
       "      <td>https://www.postgraduateforum.com/,https://www...</td>\n",
       "    </tr>\n",
       "    <tr>\n",
       "      <th>3</th>\n",
       "      <td>www.postgraduateforum.com/sneaks-profile</td>\n",
       "      <td>https://www.postgraduateforum.com/,https://www...</td>\n",
       "    </tr>\n",
       "    <tr>\n",
       "      <th>4</th>\n",
       "      <td>www.postgraduateforum.com/docinsanity-blog/com...</td>\n",
       "      <td>https://www.postgraduateforum.com/,https://www...</td>\n",
       "    </tr>\n",
       "  </tbody>\n",
       "</table>\n",
       "</div>"
      ],
      "text/plain": [
       "                                                 url  \\\n",
       "0                         www.postgraduateforum.com/   \n",
       "1           www.postgraduateforum.com/tricky-profile   \n",
       "2             www.postgraduateforum.com/lara-profile   \n",
       "3           www.postgraduateforum.com/sneaks-profile   \n",
       "4  www.postgraduateforum.com/docinsanity-blog/com...   \n",
       "\n",
       "                                        connected_to  \n",
       "0  https://www.postgraduateforum.com/,https://www...  \n",
       "1  https://www.postgraduateforum.com/,https://www...  \n",
       "2  https://www.postgraduateforum.com/,https://www...  \n",
       "3  https://www.postgraduateforum.com/,https://www...  \n",
       "4  https://www.postgraduateforum.com/,https://www...  "
      ]
     },
     "execution_count": 81,
     "metadata": {},
     "output_type": "execute_result"
    }
   ],
   "source": [
    "structure = pd.read_csv(FILENAME_STRUCTURE, usecols=['url', 'connected_to'])\n",
    "structure['url'] = structure['url'].apply(remove_protocol)\n",
    "structure.head()"
   ]
  },
  {
   "cell_type": "markdown",
   "metadata": {},
   "source": [
    "## Create the graph of the structure"
   ]
  },
  {
   "cell_type": "markdown",
   "metadata": {},
   "source": [
    "### Check if there are duplicates"
   ]
  },
  {
   "cell_type": "code",
   "execution_count": 82,
   "metadata": {},
   "outputs": [
    {
     "name": "stdout",
     "output_type": "stream",
     "text": [
      "Duplicate URLs: ['www.postgraduateforum.com/']\n"
     ]
    }
   ],
   "source": [
    "unique_urls, count_duplicates = np.unique(structure['url'].values, return_counts=True)\n",
    "duplicate_urls = unique_urls[count_duplicates > 1]\n",
    "print('Duplicate URLs:', duplicate_urls)"
   ]
  },
  {
   "cell_type": "code",
   "execution_count": 83,
   "metadata": {},
   "outputs": [],
   "source": [
    "structure_graph = nx.Graph()\n",
    "structure_graph.add_nodes_from(structure['url'].values)"
   ]
  },
  {
   "cell_type": "code",
   "execution_count": 87,
   "metadata": {},
   "outputs": [],
   "source": [
    "for row in structure['connected_to'].dropna():\n",
    "    urls = map(remove_protocol, row.split(','))\n",
    "    for url in urls:\n",
    "        # Don't consider connections which are not pages themselves\n",
    "        if url in structure_graph:\n",
    "            structure_graph.add_edge(row, url)"
   ]
  },
  {
   "cell_type": "markdown",
   "metadata": {},
   "source": [
    "## Load the content adj matrix"
   ]
  },
  {
   "cell_type": "code",
   "execution_count": 57,
   "metadata": {},
   "outputs": [],
   "source": [
    "content_adj = np.load(FILENAME_SIM)"
   ]
  }
 ],
 "metadata": {
  "kernelspec": {
   "display_name": "Python 3",
   "language": "python",
   "name": "python3"
  },
  "language_info": {
   "codemirror_mode": {
    "name": "ipython",
    "version": 3
   },
   "file_extension": ".py",
   "mimetype": "text/x-python",
   "name": "python",
   "nbconvert_exporter": "python",
   "pygments_lexer": "ipython3",
   "version": "3.7.6"
  }
 },
 "nbformat": 4,
 "nbformat_minor": 4
}
