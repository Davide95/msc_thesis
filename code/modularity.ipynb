{
 "cells": [
  {
   "cell_type": "markdown",
   "metadata": {},
   "source": [
    "# Modularity"
   ]
  },
  {
   "cell_type": "code",
   "execution_count": null,
   "metadata": {},
   "outputs": [],
   "source": [
    "# Fill in with your data\n",
    "DATASET_ID = 'msccrociere'\n",
    "FILENAME_STRUCTURE = 'prep-data/postgraduate-2604.csv'\n",
    "FILENAME_CONTENT = 'similarity-graph/full/watt-2604-adj.npy'\n",
    "THRESHOLD = 0.9332889"
   ]
  },
  {
   "cell_type": "code",
   "execution_count": null,
   "metadata": {},
   "outputs": [],
   "source": [
    "import numpy as np\n",
    "import pandas as pd\n",
    "import networkx as nx\n",
    "from numba import jit, prange\n",
    "import networkx as nx\n",
    "import plotly.graph_objects as go\n",
    "from ipywidgets import IntProgress\n",
    "from IPython.display import display"
   ]
  },
  {
   "cell_type": "markdown",
   "metadata": {},
   "source": [
    "## Load data"
   ]
  },
  {
   "cell_type": "markdown",
   "metadata": {},
   "source": [
    "### Load structure"
   ]
  },
  {
   "cell_type": "code",
   "execution_count": null,
   "metadata": {},
   "outputs": [],
   "source": [
    "structure_df = pd.read_csv(FILENAME_STRUCTURE, usecols=['url', 'connected_to'])\n",
    "structure_df['url'] = structure_df['url']\n",
    "structure_df.head()"
   ]
  },
  {
   "cell_type": "markdown",
   "metadata": {},
   "source": [
    "### Check if there are duplicates"
   ]
  },
  {
   "cell_type": "code",
   "execution_count": null,
   "metadata": {},
   "outputs": [],
   "source": [
    "unique_urls, count_duplicates = np.unique(structure_df['url'].values, return_counts=True)\n",
    "duplicate_urls = unique_urls[count_duplicates > 1]\n",
    "assert np.sum(count_duplicates > 1) == 0, 'There sould not be duplicates in data'"
   ]
  },
  {
   "cell_type": "markdown",
   "metadata": {},
   "source": [
    "### Effectively creating the graph"
   ]
  },
  {
   "cell_type": "code",
   "execution_count": null,
   "metadata": {},
   "outputs": [],
   "source": [
    "structure_graph = nx.Graph()\n",
    "structure_graph.add_nodes_from(structure_df['url'].values)"
   ]
  },
  {
   "cell_type": "code",
   "execution_count": null,
   "metadata": {},
   "outputs": [],
   "source": [
    "for _, row in structure_df.iterrows():\n",
    "    from_url = row['url']\n",
    "    connected_to = row['connected_to']\n",
    "    \n",
    "    # Don't consider null values\n",
    "    if not pd.isnull(connected_to):\n",
    "        for to_url in connected_to.split(','):\n",
    "            # Don't consider connections which are not pages themselves\n",
    "            if to_url in structure_graph:\n",
    "                structure_graph.add_edge(from_url, to_url)"
   ]
  },
  {
   "cell_type": "markdown",
   "metadata": {},
   "source": [
    "### Transform it to an adj matrix"
   ]
  },
  {
   "cell_type": "code",
   "execution_count": null,
   "metadata": {},
   "outputs": [],
   "source": [
    "structure = nx.to_numpy_matrix(structure_graph, nodelist=structure_df['url'].values, dtype=np.int32)\n",
    "np.fill_diagonal(structure, 0)"
   ]
  },
  {
   "cell_type": "markdown",
   "metadata": {},
   "source": [
    "### Load the content adj matrix"
   ]
  },
  {
   "cell_type": "code",
   "execution_count": null,
   "metadata": {},
   "outputs": [],
   "source": [
    "content = np.load(FILENAME_CONTENT)\n",
    "content = 1 - content\n",
    "np.fill_diagonal(content, 0.0)"
   ]
  },
  {
   "cell_type": "markdown",
   "metadata": {},
   "source": [
    "## Find the best modularity for content"
   ]
  },
  {
   "cell_type": "code",
   "execution_count": null,
   "metadata": {},
   "outputs": [],
   "source": [
    "def find_communities(adj):\n",
    "    communities = np.zeros(adj.shape[0], dtype=np.int32)\n",
    "\n",
    "    label = 0\n",
    "    pool = set()\n",
    "    for idx, val in enumerate(communities):\n",
    "        if val == 0:\n",
    "            # Change the community\n",
    "            label += 1\n",
    "            communities[idx] = label\n",
    "        \n",
    "            # Neighbours are in the same community\n",
    "            neighbours = np.nonzero(adj[idx])[0]\n",
    "\n",
    "            # Neighbours of neighbours are in the same community\n",
    "            pool |= set(neighbours)\n",
    "            while pool:\n",
    "                neigh_idx = pool.pop()\n",
    "                neigh_val = communities[neigh_idx]\n",
    "\n",
    "                # Don't look at previously used data\n",
    "                if neigh_val == 0:\n",
    "                    communities[neigh_idx] = label\n",
    "\n",
    "                    neighbours = np.nonzero(adj[neigh_idx])[0]\n",
    "                    pool |= set(neighbours)\n",
    "                    \n",
    "    return communities"
   ]
  },
  {
   "cell_type": "code",
   "execution_count": null,
   "metadata": {},
   "outputs": [],
   "source": [
    "@jit(nopython=True, nogil=True, parallel=True, fastmath=True)\n",
    "def compute_modularity(adj, communities):    \n",
    "    n_edges_doubled = np.sum(adj)\n",
    "    k_all = np.sum(adj, axis=1)\n",
    "    \n",
    "    out = np.zeros((adj.shape[0], adj.shape[0]), np.float32)\n",
    "    for row_i_idx in prange(adj.shape[0]):\n",
    "        for row_j_idx in prange(row_i_idx):\n",
    "            # Compute it only for nodes of the same community\n",
    "            if communities[row_i_idx] == communities[row_j_idx]:\n",
    "                A_ij = adj[row_i_idx, row_j_idx]\n",
    "                P_ij = (k_all[row_i_idx] * k_all[row_j_idx]) / n_edges_doubled\n",
    "                \n",
    "                out[row_i_idx][row_j_idx] = A_ij - P_ij\n",
    "\n",
    "    out_sum = np.sum(out) / (n_edges_doubled // 2)\n",
    "    return out_sum"
   ]
  },
  {
   "cell_type": "code",
   "execution_count": null,
   "metadata": {},
   "outputs": [],
   "source": [
    "modularities = np.array([])\n",
    "samples = np.array([])\n",
    "edges = np.array([])"
   ]
  },
  {
   "cell_type": "markdown",
   "metadata": {},
   "source": [
    "### Run it iteratively until you are satisfied with the plot"
   ]
  },
  {
   "cell_type": "code",
   "execution_count": null,
   "metadata": {},
   "outputs": [],
   "source": [
    "range_start = float(input('Range (start value): '))\n",
    "assert range_start > 0\n",
    "\n",
    "range_stop = float(input('Range (stop value): '))\n",
    "assert range_stop < 1\n",
    "\n",
    "range_num = int(input('Range (number of samples): '))\n",
    "assert range_num > 0\n",
    "\n",
    "f = IntProgress(min=0, max=range_num*4)\n",
    "display(f)\n",
    "\n",
    "attempts = np.linspace(range_start, range_stop, range_num)\n",
    "for attempt in attempts:\n",
    "    # Loading data\n",
    "    content_bin = (content > attempt).astype(dtype=np.int32)\n",
    "    f.value += 1\n",
    "    \n",
    "    # Counting number of edges\n",
    "    edges = np.append(edges, np.sum(content_bin)//2)\n",
    "    f.value += 1\n",
    "    \n",
    "    # Find communities\n",
    "    communities = find_communities(content_bin)\n",
    "    f.value += 1\n",
    "    \n",
    "    # Compute modularity\n",
    "    modularity = compute_modularity(content_bin, communities)\n",
    "    f.value += 1\n",
    "    \n",
    "    modularities = np.append(modularities, modularity)\n",
    "    samples = np.append(samples, attempt)\n",
    "    \n",
    "# Sort new data before plotting it\n",
    "sort_idx = samples.argsort()\n",
    "samples = samples[sort_idx]\n",
    "modularities = modularities[sort_idx]\n",
    "edges = edges[sort_idx]\n",
    "\n",
    "# Plot the result\n",
    "fig = go.Figure(data=go.Scatter(x=samples, y=modularities, mode='lines+markers'))\n",
    "fig.update_layout(title=f'{DATASET_ID}',\n",
    "                   xaxis_title='Threshold',\n",
    "                   yaxis_title='Modularity')\n",
    "fig.show()\n",
    "\n",
    "fig = go.Figure(data=go.Scatter(x=samples, y=edges, mode='lines+markers'))\n",
    "fig.update_layout(title=f'{DATASET_ID}',\n",
    "                   xaxis_title='Threshold',\n",
    "                   yaxis_title='Number of edges')\n",
    "fig.show()"
   ]
  },
  {
   "cell_type": "markdown",
   "metadata": {},
   "source": [
    "## Compute modularity for the structure"
   ]
  },
  {
   "cell_type": "code",
   "execution_count": null,
   "metadata": {},
   "outputs": [],
   "source": [
    "communities = find_communities(structure)\n",
    "modularity = compute_modularity(structure, communities)\n",
    "\n",
    "print('Modularity:', modularity)"
   ]
  },
  {
   "cell_type": "markdown",
   "metadata": {},
   "source": [
    "## License\n",
    "<small>Copyright (C) 2020 MaLGa ML4DS \n",
    "\n",
    "This program is free software: you can redistribute it and/or modify\n",
    "it under the terms of the GNU General Public License as published by\n",
    "the Free Software Foundation, either version 3 of the License, or\n",
    "(at your option) any later version.\n",
    "\n",
    "This program is distributed in the hope that it will be useful,\n",
    "but WITHOUT ANY WARRANTY; without even the implied warranty of\n",
    "MERCHANTABILITY or FITNESS FOR A PARTICULAR PURPOSE.  See the\n",
    "GNU General Public License for more details.\n",
    "\n",
    "You should have received a copy of the GNU General Public License\n",
    "along with this program.  If not, see &lt;https://www.gnu.org/licenses/&gt;.</small>"
   ]
  }
 ],
 "metadata": {
  "kernelspec": {
   "display_name": "Python 3",
   "language": "python",
   "name": "python3"
  },
  "language_info": {
   "codemirror_mode": {
    "name": "ipython",
    "version": 3
   },
   "file_extension": ".py",
   "mimetype": "text/x-python",
   "name": "python",
   "nbconvert_exporter": "python",
   "pygments_lexer": "ipython3",
   "version": "3.7.6"
  }
 },
 "nbformat": 4,
 "nbformat_minor": 4
}
