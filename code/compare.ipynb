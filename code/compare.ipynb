{
 "cells": [
  {
   "cell_type": "code",
   "execution_count": null,
   "metadata": {},
   "outputs": [],
   "source": [
    "import pandas as pd\n",
    "import numpy as np\n",
    "import matplotlib.pyplot as plt\n",
    "import networkx as nx\n",
    "from numba import jit, prange"
   ]
  },
  {
   "cell_type": "code",
   "execution_count": null,
   "metadata": {},
   "outputs": [],
   "source": [
    "DATASET_ID = 'goop'\n",
    "FILENAME_STRUCTURE = 'prep-data/goop-2104.csv'\n",
    "FILENAME_CONTENT = 'similarity-graphs/filter_50/goop-2104-adj.npy'"
   ]
  },
  {
   "cell_type": "code",
   "execution_count": null,
   "metadata": {},
   "outputs": [],
   "source": [
    "def remove_protocol(url):\n",
    "    assert url.startswith('http'), f'Formatting error: URL \"{url}\" not valid.'\n",
    "    \n",
    "    if url.startswith('http://'):\n",
    "        return url[7:]\n",
    "    else:\n",
    "        return url[8:]"
   ]
  },
  {
   "cell_type": "markdown",
   "metadata": {},
   "source": [
    "## Load data"
   ]
  },
  {
   "cell_type": "code",
   "execution_count": null,
   "metadata": {},
   "outputs": [],
   "source": [
    "structure_df = pd.read_csv(FILENAME_STRUCTURE, usecols=['url', 'connected_to'])\n",
    "structure_df['url'] = structure_df['url']\n",
    "structure_df.head()"
   ]
  },
  {
   "cell_type": "markdown",
   "metadata": {},
   "source": [
    "### Create the graph of the structure"
   ]
  },
  {
   "cell_type": "markdown",
   "metadata": {},
   "source": [
    "### Check if there are duplicates"
   ]
  },
  {
   "cell_type": "code",
   "execution_count": null,
   "metadata": {},
   "outputs": [],
   "source": [
    "unique_urls, count_duplicates = np.unique(structure_df['url'].values, return_counts=True)\n",
    "duplicate_urls = unique_urls[count_duplicates > 1]\n",
    "assert np.sum(count_duplicates > 1) == 0, 'There sould not be duplicates in data'"
   ]
  },
  {
   "cell_type": "markdown",
   "metadata": {},
   "source": [
    "### Effectively creating the graph"
   ]
  },
  {
   "cell_type": "code",
   "execution_count": null,
   "metadata": {},
   "outputs": [],
   "source": [
    "structure_graph = nx.Graph()\n",
    "structure_graph.add_nodes_from(structure_df['url'].values)"
   ]
  },
  {
   "cell_type": "markdown",
   "metadata": {},
   "source": [
    "### Create an adjency matrix"
   ]
  },
  {
   "cell_type": "code",
   "execution_count": null,
   "metadata": {},
   "outputs": [],
   "source": [
    "for _, row in structure_df.iterrows():\n",
    "    from_url = row['url']\n",
    "    connected_to = row['connected_to']\n",
    "    \n",
    "    # Don't consider null values\n",
    "    if not pd.isnull(connected_to):\n",
    "        for to_url in connected_to.split(','):\n",
    "            # Don't consider connections which are not pages themselves\n",
    "            if to_url in structure_graph:\n",
    "                structure_graph.add_edge(from_url, to_url)"
   ]
  },
  {
   "cell_type": "markdown",
   "metadata": {},
   "source": [
    "### Transform it to an adj matrix"
   ]
  },
  {
   "cell_type": "code",
   "execution_count": null,
   "metadata": {},
   "outputs": [],
   "source": [
    "structure = nx.to_numpy_matrix(structure_graph, nodelist=structure_df['url'].values, dtype=np.bool)"
   ]
  },
  {
   "cell_type": "markdown",
   "metadata": {},
   "source": [
    "### Load the content adj matrix"
   ]
  },
  {
   "cell_type": "code",
   "execution_count": null,
   "metadata": {},
   "outputs": [],
   "source": [
    "content = np.load(FILENAME_CONTENT)"
   ]
  },
  {
   "cell_type": "markdown",
   "metadata": {},
   "source": [
    "## Get data sizes"
   ]
  },
  {
   "cell_type": "code",
   "execution_count": null,
   "metadata": {},
   "outputs": [],
   "source": [
    "print('Structure len:', structure.shape[0])\n",
    "print('Content len:', content.shape[0])"
   ]
  },
  {
   "cell_type": "markdown",
   "metadata": {},
   "source": [
    "## Compute phase"
   ]
  },
  {
   "cell_type": "markdown",
   "metadata": {},
   "source": [
    "### Degree cumulative distribution"
   ]
  },
  {
   "cell_type": "code",
   "execution_count": null,
   "metadata": {},
   "outputs": [],
   "source": [
    "@jit(nopython=True, nogil=True, parallel=True, fastmath=True)\n",
    "def node_degrees_m(adj, out):\n",
    "    for row_idx in prange(adj.shape[0]):\n",
    "        row = adj[row_idx]\n",
    "        out[row_idx] = np.count_nonzero(row)\n",
    "        \n",
    "def degrees_cum_distrib(adj, out):\n",
    "    node_degrees_m(adj, out)\n",
    "    \n",
    "    vals, counts = np.unique(out, return_counts=True)\n",
    "    cum_counts = np.cumsum(counts)\n",
    "    cum_counts = cum_counts / np.max(cum_counts)\n",
    "    return vals, cum_counts\n",
    "\n",
    "def plot_degrees_cum_distrib(adj, title, xlim_left=None, xlim_right=None):\n",
    "    out = np.zeros(adj.shape[0], dtype=np.int32)\n",
    "    vals, counts = degrees_cum_distrib(adj, out)\n",
    "    \n",
    "    plt.plot(vals, counts)\n",
    "    plt.xticks()\n",
    "    plt.xlim(left=xlim_left, right=xlim_right)\n",
    "        \n",
    "    plt.title(f'CDF for the degree distribution of {DATASET_ID} {title}')\n",
    "    plt.xlabel('Node degree')\n",
    "    plt.ylabel('CDF')\n",
    "    plt.show()"
   ]
  },
  {
   "cell_type": "code",
   "execution_count": null,
   "metadata": {},
   "outputs": [],
   "source": [
    "plot_degrees_cum_distrib(structure, '(structure)', xlim_left=0, xlim_right=100)\n",
    "plot_degrees_cum_distrib(content, '(content)')"
   ]
  }
 ],
 "metadata": {
  "kernelspec": {
   "display_name": "Python 3",
   "language": "python",
   "name": "python3"
  },
  "language_info": {
   "codemirror_mode": {
    "name": "ipython",
    "version": 3
   },
   "file_extension": ".py",
   "mimetype": "text/x-python",
   "name": "python",
   "nbconvert_exporter": "python",
   "pygments_lexer": "ipython3",
   "version": "3.7.6"
  }
 },
 "nbformat": 4,
 "nbformat_minor": 4
}
