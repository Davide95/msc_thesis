{
 "cells": [
  {
   "cell_type": "markdown",
   "metadata": {},
   "source": [
    "# Data exploration"
   ]
  },
  {
   "cell_type": "code",
   "execution_count": null,
   "metadata": {},
   "outputs": [],
   "source": [
    "# Fill in with your data\n",
    "DATASET_ID = 'watt'\n",
    "FILENAME_STRUCTURE = 'prep-data/watt-2604.csv'\n",
    "FILENAME_CONTENT = 'similarity-graph/full/watt-2604-adj.npy'\n",
    "THRESHOLD = 0.9332889"
   ]
  },
  {
   "cell_type": "code",
   "execution_count": null,
   "metadata": {},
   "outputs": [],
   "source": [
    "import math\n",
    "import pandas as pd\n",
    "import numpy as np\n",
    "import plotly.graph_objects as go\n",
    "import networkx as nx\n",
    "from numba import jit, prange"
   ]
  },
  {
   "cell_type": "markdown",
   "metadata": {},
   "source": [
    "## Load data"
   ]
  },
  {
   "cell_type": "markdown",
   "metadata": {},
   "source": [
    "### Load structure"
   ]
  },
  {
   "cell_type": "code",
   "execution_count": null,
   "metadata": {},
   "outputs": [],
   "source": [
    "structure_df = pd.read_csv(FILENAME_STRUCTURE, usecols=['url', 'connected_to'])\n",
    "structure_df['url'] = structure_df['url']\n",
    "structure_df.head()"
   ]
  },
  {
   "cell_type": "markdown",
   "metadata": {},
   "source": [
    "### Check if there are duplicates"
   ]
  },
  {
   "cell_type": "code",
   "execution_count": null,
   "metadata": {},
   "outputs": [],
   "source": [
    "unique_urls, count_duplicates = np.unique(structure_df['url'].values, return_counts=True)\n",
    "duplicate_urls = unique_urls[count_duplicates > 1]\n",
    "assert np.sum(count_duplicates > 1) == 0, 'There sould not be duplicates in data'"
   ]
  },
  {
   "cell_type": "markdown",
   "metadata": {},
   "source": [
    "### Effectively creating the graph"
   ]
  },
  {
   "cell_type": "code",
   "execution_count": null,
   "metadata": {},
   "outputs": [],
   "source": [
    "structure_graph = nx.Graph()\n",
    "structure_graph.add_nodes_from(structure_df['url'].values)"
   ]
  },
  {
   "cell_type": "code",
   "execution_count": null,
   "metadata": {},
   "outputs": [],
   "source": [
    "for _, row in structure_df.iterrows():\n",
    "    from_url = row['url']\n",
    "    connected_to = row['connected_to']\n",
    "    \n",
    "    # Don't consider null values\n",
    "    if not pd.isnull(connected_to):\n",
    "        for to_url in connected_to.split(','):\n",
    "            # Don't consider connections which are not pages themselves\n",
    "            if to_url in structure_graph:\n",
    "                structure_graph.add_edge(from_url, to_url)"
   ]
  },
  {
   "cell_type": "markdown",
   "metadata": {},
   "source": [
    "### Transform it to an adj matrix"
   ]
  },
  {
   "cell_type": "code",
   "execution_count": null,
   "metadata": {},
   "outputs": [],
   "source": [
    "structure = np.array(nx.to_numpy_matrix(structure_graph, nodelist=structure_df['url'].values, dtype=np.int32))\n",
    "np.fill_diagonal(structure, 0)"
   ]
  },
  {
   "cell_type": "markdown",
   "metadata": {},
   "source": [
    "### Load the content adj matrix"
   ]
  },
  {
   "cell_type": "code",
   "execution_count": null,
   "metadata": {},
   "outputs": [],
   "source": [
    "content = np.load(FILENAME_CONTENT)\n",
    "content = 1 - content\n",
    "np.fill_diagonal(content, 0)\n",
    "\n",
    "content = (content > THRESHOLD).astype(dtype=np.int32)"
   ]
  },
  {
   "cell_type": "markdown",
   "metadata": {},
   "source": [
    "## Get data sizes"
   ]
  },
  {
   "cell_type": "code",
   "execution_count": null,
   "metadata": {},
   "outputs": [],
   "source": [
    "print('Structure len:', structure.shape[0])\n",
    "print('Content len:', content.shape[0])\n",
    "\n",
    "assert structure.shape[0] == content.shape[0], 'Structure and content does not have the same number of pages'"
   ]
  },
  {
   "cell_type": "markdown",
   "metadata": {},
   "source": [
    "## Compute phase"
   ]
  },
  {
   "cell_type": "markdown",
   "metadata": {},
   "source": [
    "### Degree cumulative distribution"
   ]
  },
  {
   "cell_type": "code",
   "execution_count": null,
   "metadata": {},
   "outputs": [],
   "source": [
    "@jit(nopython=True, nogil=True, parallel=True, fastmath=True)\n",
    "def node_degrees_m(adj, out):\n",
    "    for row_idx in prange(adj.shape[0]):\n",
    "        row = adj[row_idx]\n",
    "        out[row_idx] = np.count_nonzero(row)\n",
    "\n",
    "def plot_degrees_cum_distrib(adj, title):\n",
    "    degrees = np.zeros(adj.shape[0], dtype=np.int32)\n",
    "    node_degrees_m(adj, degrees)\n",
    "    \n",
    "    fig = go.Figure(data=go.Histogram(x=degrees, histnorm='probability', \n",
    "                                      cumulative_enabled=True, autobinx=True))\n",
    "    fig.update_layout(title=f'{DATASET_ID} {title}',\n",
    "                      xaxis_title='Node degree', yaxis_title='CDF')\n",
    "    fig.update_traces(opacity=0.75)\n",
    "    fig.show()"
   ]
  },
  {
   "cell_type": "code",
   "execution_count": null,
   "metadata": {},
   "outputs": [],
   "source": [
    "plot_degrees_cum_distrib(structure, '(structure)')\n",
    "plot_degrees_cum_distrib(content, '(content)')"
   ]
  },
  {
   "cell_type": "markdown",
   "metadata": {},
   "source": [
    "### Clustering coefficient"
   ]
  },
  {
   "cell_type": "code",
   "execution_count": null,
   "metadata": {},
   "outputs": [],
   "source": [
    "@jit(nopython=True, nogil=True, parallel=True, fastmath=True)\n",
    "def local_cc(adj, out):\n",
    "    adj_norm = adj.copy() / np.max(adj)\n",
    "    \n",
    "    for node_insp_idx in prange(adj_norm.shape[0]):\n",
    "        # Compute numerator\n",
    "        num = 0.0\n",
    "        for neigh_1_idx in prange(adj_norm.shape[0]):\n",
    "            insp_to_1 = adj_norm[node_insp_idx, neigh_1_idx]\n",
    "            \n",
    "            # Skip nodes if there is no connection at first\n",
    "            if insp_to_1 != 0:\n",
    "                for neigh_2_idx in prange(adj_norm.shape[0]):\n",
    "                    gmean = (insp_to_1\n",
    "                             * adj_norm[neigh_2_idx, neigh_1_idx] \n",
    "                             * adj_norm[neigh_2_idx, node_insp_idx])\n",
    "                    gmean = np.power(gmean, 1/3)\n",
    "                    num += gmean\n",
    "                \n",
    "        # Compute denominator\n",
    "        degree = np.count_nonzero(adj_norm[node_insp_idx])\n",
    "        denom = degree * (degree - 1)\n",
    "        \n",
    "        # Store the result for each node\n",
    "        if denom > 0:\n",
    "            cc = num / denom\n",
    "        else:\n",
    "            cc = 0\n",
    "        out[node_insp_idx] = cc\n",
    "    \n",
    "        \n",
    "def plot_cc_cum_distrib(adj, title):\n",
    "    ccs = np.zeros(adj.shape[0], dtype=np.float32)\n",
    "    local_cc(adj, ccs)\n",
    "    \n",
    "    fig = go.Figure(data=go.Histogram(x=ccs, histnorm='probability', \n",
    "                                      cumulative_enabled=True, autobinx=True))\n",
    "    fig.update_layout(title=f'{DATASET_ID} {title}',\n",
    "                      xaxis_title='Clustering coefficient', yaxis_title='CDF')\n",
    "    fig.update_traces(opacity=0.75)\n",
    "    fig.show()\n",
    "    \n",
    "    print('Average:', np.average(ccs))"
   ]
  },
  {
   "cell_type": "code",
   "execution_count": null,
   "metadata": {},
   "outputs": [],
   "source": [
    "plot_cc_cum_distrib(structure, '(structure)')\n",
    "plot_cc_cum_distrib(content, '(content)')"
   ]
  },
  {
   "cell_type": "markdown",
   "metadata": {},
   "source": [
    "## License\n",
    "<small>Copyright (C) 2020 MaLGa ML4DS \n",
    "\n",
    "This program is free software: you can redistribute it and/or modify\n",
    "it under the terms of the GNU General Public License as published by\n",
    "the Free Software Foundation, either version 3 of the License, or\n",
    "(at your option) any later version.\n",
    "\n",
    "This program is distributed in the hope that it will be useful,\n",
    "but WITHOUT ANY WARRANTY; without even the implied warranty of\n",
    "MERCHANTABILITY or FITNESS FOR A PARTICULAR PURPOSE.  See the\n",
    "GNU General Public License for more details.\n",
    "\n",
    "You should have received a copy of the GNU General Public License\n",
    "along with this program.  If not, see &lt;https://www.gnu.org/licenses/&gt;.</small>"
   ]
  }
 ],
 "metadata": {
  "kernelspec": {
   "display_name": "Python 3",
   "language": "python",
   "name": "python3"
  },
  "language_info": {
   "codemirror_mode": {
    "name": "ipython",
    "version": 3
   },
   "file_extension": ".py",
   "mimetype": "text/x-python",
   "name": "python",
   "nbconvert_exporter": "python",
   "pygments_lexer": "ipython3",
   "version": "3.7.6"
  }
 },
 "nbformat": 4,
 "nbformat_minor": 4
}
