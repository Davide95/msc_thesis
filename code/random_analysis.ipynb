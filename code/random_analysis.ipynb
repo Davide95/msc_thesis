{
 "cells": [
  {
   "cell_type": "markdown",
   "metadata": {},
   "source": [
    "# Random analysis"
   ]
  },
  {
   "cell_type": "code",
   "execution_count": null,
   "metadata": {},
   "outputs": [],
   "source": [
    "import numpy as np\n",
    "from pathlib import Path\n",
    "import plotly.graph_objects as go"
   ]
  },
  {
   "cell_type": "code",
   "execution_count": null,
   "metadata": {},
   "outputs": [],
   "source": [
    "DATA_DIR = 'similarity-graph/random/'"
   ]
  },
  {
   "cell_type": "markdown",
   "metadata": {},
   "source": [
    "## Load data"
   ]
  },
  {
   "cell_type": "code",
   "execution_count": null,
   "metadata": {},
   "outputs": [],
   "source": [
    "# Files should be in the format random1000-50-wiki-it-2804-adj.npy\n",
    "files = Path(DATA_DIR).glob('*.npy')\n",
    "\n",
    "data_dict = dict()\n",
    "for file in files:\n",
    "    # Load adj matrix and transform it into a graph\n",
    "    content = np.load(file)\n",
    "    content = 1 - content\n",
    "    np.fill_diagonal(content, 0.0)\n",
    "    \n",
    "    # Compute the cumulative distrib\n",
    "    \n",
    "    data_dict[file.stem] = content.flatten()\n",
    "    \n",
    "data_dict.keys()"
   ]
  },
  {
   "cell_type": "markdown",
   "metadata": {},
   "source": [
    "## Plot data"
   ]
  },
  {
   "cell_type": "code",
   "execution_count": null,
   "metadata": {},
   "outputs": [],
   "source": [
    "fig = go.Figure()\n",
    "for dataset in data_dict:\n",
    "    fig.add_trace(go.Histogram(x=data_dict[dataset], name=dataset,\n",
    "                               histnorm='probability', cumulative_enabled=True,\n",
    "                               nbinsx=500))\n",
    "    \n",
    "fig.update_layout(barmode='overlay')\n",
    "fig.update_traces(opacity=0.50)\n",
    "fig.show()"
   ]
  },
  {
   "cell_type": "code",
   "execution_count": null,
   "metadata": {},
   "outputs": [],
   "source": []
  }
 ],
 "metadata": {
  "kernelspec": {
   "display_name": "Python 3",
   "language": "python",
   "name": "python3"
  },
  "language_info": {
   "codemirror_mode": {
    "name": "ipython",
    "version": 3
   },
   "file_extension": ".py",
   "mimetype": "text/x-python",
   "name": "python",
   "nbconvert_exporter": "python",
   "pygments_lexer": "ipython3",
   "version": "3.7.6"
  }
 },
 "nbformat": 4,
 "nbformat_minor": 4
}
