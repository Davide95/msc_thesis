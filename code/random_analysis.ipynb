{
 "cells": [
  {
   "cell_type": "markdown",
   "metadata": {},
   "source": [
    "# Random analysis"
   ]
  },
  {
   "cell_type": "code",
   "execution_count": null,
   "metadata": {},
   "outputs": [],
   "source": [
    "import numpy as np\n",
    "from pathlib import Path\n",
    "import plotly.graph_objects as go"
   ]
  },
  {
   "cell_type": "code",
   "execution_count": null,
   "metadata": {},
   "outputs": [],
   "source": [
    "DATA_DIR = 'similarity-graph/random/'"
   ]
  },
  {
   "cell_type": "markdown",
   "metadata": {},
   "source": [
    "## Load data"
   ]
  },
  {
   "cell_type": "code",
   "execution_count": null,
   "metadata": {},
   "outputs": [],
   "source": [
    "files = Path(DATA_DIR).glob('*.npy')\n",
    "\n",
    "data_dict = dict()\n",
    "for file in files:\n",
    "    # Load adj matrix and transform it into a graph\n",
    "    content = np.load(file)\n",
    "    content = 1 - content\n",
    "    \n",
    "    # Remove diagonal\n",
    "    np.fill_diagonal(content, -1)\n",
    "    content = content.flatten()\n",
    "    content = content[np.argwhere(content != -1)[:,0]]\n",
    "    \n",
    "    # Compute the cumulative distrib\n",
    "    data_dict[file.stem] = content\n",
    "    \n",
    "data_dict.keys()"
   ]
  },
  {
   "cell_type": "markdown",
   "metadata": {},
   "source": [
    "## Plot data"
   ]
  },
  {
   "cell_type": "code",
   "execution_count": null,
   "metadata": {},
   "outputs": [],
   "source": [
    "dataset = 'random100-full-en'\n",
    "\n",
    "fig = go.Figure()\n",
    "fig.add_trace(go.Histogram(x=data_dict[dataset], name=dataset,\n",
    "                           histnorm='probability', cumulative_enabled=True))\n",
    "    \n",
    "fig.update_layout(barmode='overlay')\n",
    "fig.update_traces(opacity=0.50)\n",
    "fig.show()"
   ]
  },
  {
   "cell_type": "markdown",
   "metadata": {},
   "source": [
    "## Statistical threshold"
   ]
  },
  {
   "cell_type": "code",
   "execution_count": null,
   "metadata": {},
   "outputs": [],
   "source": [
    "p = 0.05\n",
    "\n",
    "for key in data_dict:\n",
    "    vals, counts = np.unique(data_dict[key], return_counts=True)\n",
    "    counts = np.cumsum(counts)\n",
    "    counts = 1 - np.cumsum(counts)/np.sum(counts)\n",
    "    \n",
    "    threshold_idx = np.argmax(counts <= p)\n",
    "    threshold = vals[threshold_idx]\n",
    "    print(key, 'threshold:', threshold)"
   ]
  },
  {
   "cell_type": "markdown",
   "metadata": {},
   "source": [
    "## License\n",
    "<small>Copyright (C) 2020 MaLGa ML4DS \n",
    "\n",
    "This program is free software: you can redistribute it and/or modify\n",
    "it under the terms of the GNU General Public License as published by\n",
    "the Free Software Foundation, either version 3 of the License, or\n",
    "(at your option) any later version.\n",
    "\n",
    "This program is distributed in the hope that it will be useful,\n",
    "but WITHOUT ANY WARRANTY; without even the implied warranty of\n",
    "MERCHANTABILITY or FITNESS FOR A PARTICULAR PURPOSE.  See the\n",
    "GNU General Public License for more details.\n",
    "\n",
    "You should have received a copy of the GNU General Public License\n",
    "along with this program.  If not, see &lt;https://www.gnu.org/licenses/&gt;.</small>"
   ]
  }
 ],
 "metadata": {
  "kernelspec": {
   "display_name": "Python 3",
   "language": "python",
   "name": "python3"
  },
  "language_info": {
   "codemirror_mode": {
    "name": "ipython",
    "version": 3
   },
   "file_extension": ".py",
   "mimetype": "text/x-python",
   "name": "python",
   "nbconvert_exporter": "python",
   "pygments_lexer": "ipython3",
   "version": "3.7.6"
  }
 },
 "nbformat": 4,
 "nbformat_minor": 4
}
